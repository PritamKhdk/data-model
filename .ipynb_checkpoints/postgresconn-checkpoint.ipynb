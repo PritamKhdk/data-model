{
 "cells": [
  {
   "cell_type": "code",
   "execution_count": 1,
   "id": "eef34cef-0c7b-4c94-ae05-7d9cced39371",
   "metadata": {},
   "outputs": [
    {
     "name": "stdout",
     "output_type": "stream",
     "text": [
      "Note: you may need to restart the kernel to use updated packages.\n"
     ]
    },
    {
     "name": "stderr",
     "output_type": "stream",
     "text": [
      "ERROR: unknown command \"indtsll\" - maybe you meant \"install\"\n",
      "\n"
     ]
    }
   ],
   "source": [
    "pip indtsll pdycopg2\n"
   ]
  },
  {
   "cell_type": "code",
   "execution_count": 3,
   "id": "0588a068-7bef-41f7-ad2b-783edb5a1fee",
   "metadata": {},
   "outputs": [
    {
     "name": "stdout",
     "output_type": "stream",
     "text": [
      "Requirement already satisfied: psycopg2 in c:\\users\\prita\\appdata\\local\\programs\\python\\python312\\lib\\site-packages (2.9.9)\n",
      "Note: you may need to restart the kernel to use updated packages.\n"
     ]
    },
    {
     "name": "stderr",
     "output_type": "stream",
     "text": [
      "\n",
      "[notice] A new release of pip is available: 23.2.1 -> 24.0\n",
      "[notice] To update, run: python.exe -m pip install --upgrade pip\n"
     ]
    }
   ],
   "source": [
    "pip install psycopg2\n"
   ]
  },
  {
   "cell_type": "code",
   "execution_count": 4,
   "id": "33ccb489-f128-4b7d-b222-92798bf26f97",
   "metadata": {},
   "outputs": [],
   "source": [
    "import psycopg2"
   ]
  },
  {
   "cell_type": "code",
   "execution_count": 6,
   "id": "e75d640e-e0eb-4e0a-b484-7246e89adaad",
   "metadata": {},
   "outputs": [
    {
     "name": "stdout",
     "output_type": "stream",
     "text": [
      "connection was made to the database\n"
     ]
    }
   ],
   "source": [
    "try:\n",
    "    conn = psycopg2.connect(\"host=127.0.0.1 dbname=postgres user=postgres password=root\")\n",
    "    print(\"connection was made to the database\")\n",
    "except psycopg2.Error as e:\n",
    "    print(\"Error: Could not make connection to the postgres database\")\n",
    "    print(e)"
   ]
  },
  {
   "cell_type": "code",
   "execution_count": 7,
   "id": "15686eda-23d0-47fb-976a-bd53fc4469b4",
   "metadata": {},
   "outputs": [],
   "source": [
    "try:\n",
    "    cur = conn.cursor()\n",
    "except pyscopg2.Error as e:\n",
    "    print(\"Erro: Could not get database cursor\")\n",
    "    print(e)"
   ]
  },
  {
   "cell_type": "code",
   "execution_count": 8,
   "id": "71800681-3052-473a-ab7f-5d96fba8a6e3",
   "metadata": {},
   "outputs": [],
   "source": [
    "conn.set_session(autocommit=True)"
   ]
  },
  {
   "cell_type": "code",
   "execution_count": 9,
   "id": "e724681c-c5ba-4d42-ad6b-e55520fba4e8",
   "metadata": {},
   "outputs": [],
   "source": [
    "try:\n",
    "    cur.execute(\"create database myfirstdb\")\n",
    "except psycopg2.Error as e:\n",
    "    print(e)"
   ]
  },
  {
   "cell_type": "code",
   "execution_count": 10,
   "id": "1322e9d1-9e7c-420e-a313-3b31af353b39",
   "metadata": {},
   "outputs": [],
   "source": [
    "try:\n",
    "    conn.close()\n",
    "except pyscopg2.Error as e:\n",
    "    print(e)\n",
    "try:\n",
    "    conn =psycopg2.connect(\"host=127.0.0.1 dbname=myfirstdb user=postgres password=root\")\n",
    "except psycopg2.Error as e:\n",
    "    print(\"Error: Could not make connection to the postgres database\")\n",
    "    print(e)\n",
    "try:\n",
    "    cur = conn.cursor()\n",
    "except pyscopg2.Error as e:\n",
    "    print(\"Erro: Could not get database cursor\")\n",
    "    print(e)\n",
    "conn.set_session(autocommit=True)"
   ]
  },
  {
   "cell_type": "code",
   "execution_count": 13,
   "id": "77a1b657-4726-45bf-a05e-d6ae91c56ce2",
   "metadata": {},
   "outputs": [],
   "source": [
    "try:\n",
    "    cur.execute(\"CREATE TABLE IF NOT EXISTS students (student_id int, name varchar,\\\n",
    "    age int,gender varchar, subject varchar,marks int);\")\n",
    "except psycopg2.Error as e:\n",
    "    print(\"Error in creating table\")\n",
    "    print(e)"
   ]
  },
  {
   "cell_type": "code",
   "execution_count": 20,
   "id": "6948ef3b-6138-4aab-a595-9ca079c72bbe",
   "metadata": {},
   "outputs": [],
   "source": [
    "try:\n",
    "    cur.execute(\"INSERT INTO students (student_id, name, age, gender, subject, marks) \\\n",
    "    VALUES (1,'Raj',23,'Male','Python',85)\")\n",
    "except psycopg2.Error as e:\n",
    "    print(\"error in inserting\")\n",
    "    print(e)"
   ]
  },
  {
   "cell_type": "code",
   "execution_count": 18,
   "id": "82d73e92-7e66-4057-82af-2f52f7cb7d32",
   "metadata": {},
   "outputs": [],
   "source": [
    "try:\n",
    "    cur.execute(\"INSERT INTO students (student_id, name, age, gender, subject, marks) \\\n",
    "    VALUES (%s,%s,%s,%s,%s,%s)\",\\\n",
    "    (2,'Priya',22,'Female','Python',86))\n",
    "except psycopg2.Error as e:\n",
    "    print(\"error in inserting\")\n",
    "    print(e)\n"
   ]
  },
  {
   "cell_type": "code",
   "execution_count": 21,
   "id": "c9dbf44c-bc22-4b54-8347-f2f9e9d6b531",
   "metadata": {},
   "outputs": [
    {
     "name": "stdout",
     "output_type": "stream",
     "text": [
      "(1, 'Raj', 23, 'Male', 'Python', 85)\n",
      "(1, 'Raj', 23, 'Male', 'Python', 85)\n",
      "(1, 'Raj', 23, 'Male', 'Python', 85)\n",
      "(2, 'Priya', 22, 'Female', 'Python', 86)\n",
      "(1, 'Raj', 23, 'Male', 'Python', 85)\n"
     ]
    }
   ],
   "source": [
    "try:\n",
    "    cur.execute(\"SELECT * FROM students;\")\n",
    "except psycopg2.Error as e:\n",
    "    print(\"Error:select *\")\n",
    "    print(e)\n",
    "row =cur.fetchone()\n",
    "while row:\n",
    "    print(row)\n",
    "    row =cur.fetchone()\n"
   ]
  },
  {
   "cell_type": "code",
   "execution_count": 22,
   "id": "99828ba3-c4d1-4f84-82c8-6ef97e974608",
   "metadata": {},
   "outputs": [],
   "source": [
    "cur.close()\n",
    "conn.close()"
   ]
  },
  {
   "cell_type": "code",
   "execution_count": null,
   "id": "07e0b614-8387-45d6-8d64-2092d656eb93",
   "metadata": {},
   "outputs": [],
   "source": []
  }
 ],
 "metadata": {
  "kernelspec": {
   "display_name": "Python 3 (ipykernel)",
   "language": "python",
   "name": "python3"
  },
  "language_info": {
   "codemirror_mode": {
    "name": "ipython",
    "version": 3
   },
   "file_extension": ".py",
   "mimetype": "text/x-python",
   "name": "python",
   "nbconvert_exporter": "python",
   "pygments_lexer": "ipython3",
   "version": "3.12.1"
  }
 },
 "nbformat": 4,
 "nbformat_minor": 5
}
